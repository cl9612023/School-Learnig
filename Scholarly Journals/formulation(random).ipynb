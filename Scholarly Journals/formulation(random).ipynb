{
 "cells": [
  {
   "cell_type": "code",
   "execution_count": null,
   "metadata": {
    "colab": {},
    "colab_type": "code",
    "id": "9BbIXA4JPoyl"
   },
   "outputs": [],
   "source": [
    "%tensorflow_version 1.x\n",
    "import keras\n",
    "from keras.models import Sequential, Model, load_model\n",
    "from keras.layers import Dense, Dropout, Flatten, Input, Conv2D, MaxPooling2D, Activation\n",
    "from keras.layers.normalization import BatchNormalization\n",
    "from keras.layers import concatenate\n",
    "from keras.optimizers import Adam\n",
    "from keras.layers.convolutional import  AveragePooling2D\n",
    "from keras import optimizers\n",
    "import pandas as pd\n",
    "import numpy as np\n",
    "from tqdm.auto import tqdm\n",
    "import cv2\n",
    "import matplotlib.pyplot as plt\n",
    "from keras.callbacks import ModelCheckpoint, EarlyStopping, ReduceLROnPlateau\n",
    "import gc\n",
    "from math import pi\n",
    "import random\n",
    "\n",
    "'''使用google colab的載入\n",
    "from google.colab import drive\n",
    "drive.mount('/content/drive')\n",
    "'''"
   ]
  },
  {
   "cell_type": "code",
   "execution_count": null,
   "metadata": {
    "colab": {},
    "colab_type": "code",
    "id": "L8oVXOHiRmTK"
   },
   "outputs": [],
   "source": [
    "#(x,y)轉(r,theta)\n",
    "def cart2pol(x, y):\n",
    "    rho = np.sqrt(x**2 + y**2)\n",
    "    phi = np.arctan2(y, x)\n",
    "    return(rho, phi)"
   ]
  },
  {
   "cell_type": "code",
   "execution_count": null,
   "metadata": {
    "colab": {},
    "colab_type": "code",
    "id": "8jzsLaF9UnMF"
   },
   "outputs": [],
   "source": [
    "#定義32階係數的名稱a1-a32\n",
    "column_names = []\n",
    "for i in range(0,32,1):\n",
    "  i = str(i+1)\n",
    "  a = 'a'+i\n",
    "  column_names.append(a)\n",
    "print(column_names)"
   ]
  },
  {
   "cell_type": "code",
   "execution_count": null,
   "metadata": {
    "colab": {},
    "colab_type": "code",
    "id": "0EcRrqHCR6qi"
   },
   "outputs": [],
   "source": [
    "#GoogleNet架構\n",
    "def Conv2d_BN(x, nb_filter, kernel_size, padding='same', strides=(1, 1)):\n",
    "    x = Conv2D(nb_filter, kernel_size, padding=padding, strides=strides, activation='tanh')(x)\n",
    "    return x\n",
    "\n",
    "def Inception(x, nb_filter):\n",
    "    branch1x1 = Conv2d_BN(x, nb_filter, (1, 1), padding='same', strides=(1, 1))\n",
    "\n",
    "    branch3x3 = Conv2d_BN(x, nb_filter, (1, 1), padding='same', strides=(1, 1))\n",
    "    branch3x3 = Conv2d_BN(branch3x3, nb_filter, (1, 3), padding='same', strides=(1, 1))\n",
    "    branch3x3 = Conv2d_BN(branch3x3, nb_filter, (3, 1), padding='same', strides=(1, 1))\n",
    "\n",
    "    branch5x5 = Conv2d_BN(x, nb_filter, (1, 1), padding='same', strides=(1, 1))\n",
    "    branch5x5 = Conv2d_BN(branch3x3, nb_filter, (1, 3), padding='same', strides=(1, 1))\n",
    "    branch5x5 = Conv2d_BN(branch3x3, nb_filter, (3, 1), padding='same', strides=(1, 1))\n",
    "    branch5x5 = Conv2d_BN(branch3x3, nb_filter, (1, 3), padding='same', strides=(1, 1))\n",
    "    branch3x3 = Conv2d_BN(branch3x3, nb_filter, (3, 1), padding='same', strides=(1, 1))\n",
    "\n",
    "    branchpool = MaxPooling2D(pool_size=(3, 3), strides=(1, 1), padding='same')(x)\n",
    "    branchpool = Conv2d_BN(branchpool, nb_filter, (1, 1), padding='same', strides=(1, 1))\n",
    "\n",
    "    x = concatenate([branch1x1, branch3x3, branch5x5, branchpool], axis=3)\n",
    "\n",
    "    return x\n",
    "\n",
    "inpt = Input(shape=(256, 256, 1))    \n",
    "x = Conv2d_BN(inpt,64, (7, 7),  strides=(2, 2), padding='same')\n",
    "x  = MaxPooling2D(pool_size=(3, 3), strides=(2, 2), padding='same')(x)\n",
    "x  = Conv2d_BN(x, 192, (3, 3), strides=(1, 1), padding='same')\n",
    "x  = MaxPooling2D(pool_size=(3, 3), strides=(2, 2), padding='same')(x)\n",
    "x  = Inception(x, 64)  # 256\n",
    "x  = Inception(x, 120)  # 480\n",
    "x  = MaxPooling2D(pool_size=(3, 3), strides=(2, 2), padding='same')(x)\n",
    "x  = Inception(x, 128)  # 512\n",
    "x  = Inception(x, 128)\n",
    "x  = Inception(x, 128)\n",
    "x  = Inception(x, 132)  # 528\n",
    "x  = Inception(x, 208)  # 832\n",
    "x  = MaxPooling2D(pool_size=(3, 3), strides=(2, 2), padding='same')(x)\n",
    "x  = Inception(x, 208)\n",
    "x  = Inception(x, 256)  # 1024\n",
    "x  = AveragePooling2D(pool_size=(7, 7), strides=(7, 7), padding='same')(x)\n",
    "#x = Dropout(0.4)(x)\n",
    "x = Flatten()(x)\n",
    "x = Dense(2048, activation='tanh')(x)\n",
    "x = Dense(1024, activation='tanh')(x)\n",
    "x = Dense(1024, activation='tanh')(x)\n",
    "x = Dense(32, activation='linear')(x)\n",
    "model = Model(inpt, x, name='inception')"
   ]
  },
  {
   "cell_type": "code",
   "execution_count": null,
   "metadata": {
    "colab": {},
    "colab_type": "code",
    "id": "wvjoMdnqSOTS"
   },
   "outputs": [],
   "source": [
    "#loss function、優化器選擇\n",
    "model.compile(loss='mean_squared_error', optimizer=keras.optimizers.Adam(lr=0.00001), metrics=['accuracy'])\n",
    "model.summary()"
   ]
  },
  {
   "cell_type": "code",
   "execution_count": null,
   "metadata": {
    "colab": {},
    "colab_type": "code",
    "id": "ZJki5f-SUz8S"
   },
   "outputs": [],
   "source": [
    "#產生驗證數據\n",
    "num =5000#圖片數量\n",
    "a = np.linspace(-128, 127, 256)#邊常大小\n",
    "xv,yv = np.meshgrid( a , a )#圖片大小\n",
    "yv = yv*-1\n",
    "rho,theta = cart2pol( xv , yv )#(x,y)轉(r,theta)\n",
    "#設定邊界和處理邊界外的數值\n",
    "m =rho.max()*0.7\n",
    "rho = rho/m\n",
    "rho[rho>1]=np.nan\n",
    "#產生圖片矩陣和係數\n",
    "COE = np.zeros([num,32])\n",
    "Y = np.zeros((num, 256, 256))\n",
    "for i in tqdm(range(0,num,1)):\n",
    "    c =np.random.rand(1,32)-0.5\n",
    "    if abs(c [0,0]) < 0.1:\n",
    "        c[0,0] = c[0,0]*10\n",
    "    c = c.round(6)\n",
    "    COE[i,:]=c\n",
    "    phi =c[0,0]*1 \\\n",
    "            +c[0,1]* 2 * rho * np.sin(theta) \\\n",
    "            +c[0,2]* 2 * rho * np.cos(theta)\\\n",
    "            +c[0,3]*np.sqrt(6)*rho**2 * np.sin(2*theta)\\\n",
    "            +c[0,4]*np.sqrt(3)*(2*rho**2 - 1)\\\n",
    "            +c[0,5]*np.sqrt(6)*rho**2 * np.cos(2*theta)\\\n",
    "            +c[0,6]*np.sqrt(8)*rho**3 * np.sin(3*theta)\\\n",
    "            +c[0,7]*np.sqrt(8)*(3*rho**3 - 2*rho) * np.sin(theta)\\\n",
    "            +c[0,8]*np.sqrt(8)*(3*rho**3 - 2*rho) * np.cos(theta)\\\n",
    "            +c[0,9]*np.sqrt(8)*rho**3 * np.cos(3*theta)\\\n",
    "            +c[0,10]*np.sqrt(10)*rho**4* np.sin(4*theta)\\\n",
    "            +c[0,11]*np.sqrt(10)*(4*rho**4 - 3*rho**2) * np.sin(2*theta)\\\n",
    "            +c[0,12]*np.sqrt(5)*(6*rho**4 - 6*rho**2 + 1)\\\n",
    "            +c[0,13]*np.sqrt(10)*(4*rho**4 - 3*rho**2) * np.cos(2*theta)\\\n",
    "            +c[0,14]*np.sqrt(10)*rho**4* np.cos(4*theta)\\\n",
    "            +c[0,15]*np.sqrt(12)*rho**5* np.sin(5*theta)\\\n",
    "            +c[0,16]*np.sqrt(12)*(5*rho**5 - 4*rho**3) * np.sin(3*theta)\\\n",
    "            +c[0,17]*np.sqrt(12)*(10*rho**5 - 12*rho**3 + 3*rho) * np.sin(theta)\\\n",
    "            +c[0,18]*np.sqrt(12)*(10*rho**5 - 12*rho**3 + 3*rho) * np.cos(theta)\\\n",
    "            +c[0,19]*np.sqrt(12)*(5*rho**5 - 4*rho**3) * np.cos(3*theta)\\\n",
    "            +c[0,20]*np.sqrt(12)*rho**5* np.cos(5*theta)\\\n",
    "            +c[0,21]*np.sqrt(14)*rho**6* np.sin(6*theta)\\\n",
    "            +c[0,22]*np.sqrt(14)*(6*rho**6 - 5*rho**4) * np.sin(4*theta)\\\n",
    "            +c[0,23]*np.sqrt(14)*(15*rho**6 - 20*rho**4 + 6*rho**2) * np.sin(2*theta)\\\n",
    "            +c[0,24]*np.sqrt(7)*(20*rho**6 - 30*rho**4 + 12*rho**2 - 1)\\\n",
    "            +c[0,25]*np.sqrt(14)*(15*rho**6 - 20*rho**4 + 6*rho**2) * np.cos(2*theta)\\\n",
    "            +c[0,26]*np.sqrt(14)*(6*rho**6 - 5*rho**4) * np.cos(4*theta)\\\n",
    "            +c[0,27]*np.sqrt(14)*rho**6* np.cos(6*theta)\\\n",
    "            +c[0,28]*4 * rho**7* np.sin(7*theta)\\\n",
    "            +c[0,29]*4 *(7*rho**7 - 6*rho**5) * np.sin(5*theta)\\\n",
    "            +c[0,30]*4 *(21*rho**7 - 30*rho**5 + 10*rho**3) * np.sin(3*theta)\\\n",
    "            +c[0,31]*4 *(35*rho**7 - 60*rho**5 + 30*rho**3 - 4*rho) * np.sin(theta)\n",
    "    fring = 4 * np.cos(phi*2*pi/2)**2\n",
    "    fring2 = 4 * np.cos((phi*2*pi/2)+(pi/4))**2\n",
    "    fring3 =fring / fring2\n",
    "    fring3[np.isnan(fring3)] = 0\n",
    "    Y[i] = fring3\n",
    "raw = pd.DataFrame(COE,columns=column_names)\n",
    "Y=Y.reshape(num, 256, 256,1)\n",
    "X_test, y_test = Y , raw"
   ]
  },
  {
   "cell_type": "code",
   "execution_count": null,
   "metadata": {
    "colab": {},
    "colab_type": "code",
    "id": "5Guho41eq8S5"
   },
   "outputs": [],
   "source": [
    "#設定訓練數據\n",
    "def train_batch_generator(ran):\n",
    "    a = np.linspace(-128, 127, 256)\n",
    "    xv,yv = np.meshgrid( a , a )\n",
    "    yv = yv*-1\n",
    "    rho,theta = cart2pol( xv , yv )\n",
    "    m =rho.max()*0.7\n",
    "    rho = rho/m\n",
    "    rho[rho>1]=np.nan\n",
    "\n",
    "    z = np.zeros([ran,32])\n",
    "    X = np.zeros((ran, 256, 256))\n",
    "    for i in tqdm(range(0,ran,1)):\n",
    "        c =np.random.rand(1,32)-0.5\n",
    "        if abs(c [0,0]) < -0.1:\n",
    "            c[0,0] = c[0,0]*10\n",
    "        c = c.round(6)\n",
    "        z[i,:]=c\n",
    "        phi =c[0,0]*1 \\\n",
    "            +c[0,1]* 2 * rho * np.sin(theta) \\\n",
    "            +c[0,2]* 2 * rho * np.cos(theta)\\\n",
    "            +c[0,3]*np.sqrt(6)*rho**2 * np.sin(2*theta)\\\n",
    "            +c[0,4]*np.sqrt(3)*(2*rho**2 - 1)\\\n",
    "            +c[0,5]*np.sqrt(6)*rho**2 * np.cos(2*theta)\\\n",
    "            +c[0,6]*np.sqrt(8)*rho**3 * np.sin(3*theta)\\\n",
    "            +c[0,7]*np.sqrt(8)*(3*rho**3 - 2*rho) * np.sin(theta)\\\n",
    "            +c[0,8]*np.sqrt(8)*(3*rho**3 - 2*rho) * np.cos(theta)\\\n",
    "            +c[0,9]*np.sqrt(8)*rho**3 * np.cos(3*theta)\\\n",
    "            +c[0,10]*np.sqrt(10)*rho**4* np.sin(4*theta)\\\n",
    "            +c[0,11]*np.sqrt(10)*(4*rho**4 - 3*rho**2) * np.sin(2*theta)\\\n",
    "            +c[0,12]*np.sqrt(5)*(6*rho**4 - 6*rho**2 + 1)\\\n",
    "            +c[0,13]*np.sqrt(10)*(4*rho**4 - 3*rho**2) * np.cos(2*theta)\\\n",
    "            +c[0,14]*np.sqrt(10)*rho**4* np.cos(4*theta)\\\n",
    "            +c[0,15]*np.sqrt(12)*rho**5* np.sin(5*theta)\\\n",
    "            +c[0,16]*np.sqrt(12)*(5*rho**5 - 4*rho**3) * np.sin(3*theta)\\\n",
    "            +c[0,17]*np.sqrt(12)*(10*rho**5 - 12*rho**3 + 3*rho) * np.sin(theta)\\\n",
    "            +c[0,18]*np.sqrt(12)*(10*rho**5 - 12*rho**3 + 3*rho) * np.cos(theta)\\\n",
    "            +c[0,19]*np.sqrt(12)*(5*rho**5 - 4*rho**3) * np.cos(3*theta)\\\n",
    "            +c[0,20]*np.sqrt(12)*rho**5* np.cos(5*theta)\\\n",
    "            +c[0,21]*np.sqrt(14)*rho**6* np.sin(6*theta)\\\n",
    "            +c[0,22]*np.sqrt(14)*(6*rho**6 - 5*rho**4) * np.sin(4*theta)\\\n",
    "            +c[0,23]*np.sqrt(14)*(15*rho**6 - 20*rho**4 + 6*rho**2) * np.sin(2*theta)\\\n",
    "            +c[0,24]*np.sqrt(7)*(20*rho**6 - 30*rho**4 + 12*rho**2 - 1)\\\n",
    "            +c[0,25]*np.sqrt(14)*(15*rho**6 - 20*rho**4 + 6*rho**2) * np.cos(2*theta)\\\n",
    "            +c[0,26]*np.sqrt(14)*(6*rho**6 - 5*rho**4) * np.cos(4*theta)\\\n",
    "            +c[0,27]*np.sqrt(14)*rho**6* np.cos(6*theta)\\\n",
    "            +c[0,28]*4 * rho**7* np.sin(7*theta)\\\n",
    "            +c[0,29]*4 *(7*rho**7 - 6*rho**5) * np.sin(5*theta)\\\n",
    "            +c[0,30]*4 *(21*rho**7 - 30*rho**5 + 10*rho**3) * np.sin(3*theta)\\\n",
    "            +c[0,31]*4 *(35*rho**7 - 60*rho**5 + 30*rho**3 - 4*rho) * np.sin(theta)\n",
    "        fring = 4 * np.cos(phi*2*pi/2)**2\n",
    "        fring2 = 4 * np.cos((phi*2*pi/2)+(pi/4))**2\n",
    "        fring3 =fring / fring2\n",
    "        fring3[np.isnan(fring3)] = 0\n",
    "\n",
    "        X[i] = fring3\n",
    "    \n",
    "    raw_dataset = pd.DataFrame(z,columns=column_names)\n",
    "    X=X.reshape(ran, 256, 256,1)\n",
    "    X_train, y_train = X , raw_dataset\n",
    "    del X\n",
    "    gc.collect()\n",
    "    yield (X_train, y_train)"
   ]
  },
  {
   "cell_type": "code",
   "execution_count": null,
   "metadata": {
    "colab": {},
    "colab_type": "code",
    "id": "zbBYATRPq9Io"
   },
   "outputs": [],
   "source": [
    "#模型檔存在google cload 上\n",
    "weight_saver = ModelCheckpoint('/content/drive/My Drive/Masterpiece/modle/finalfringe(test).h5', monitor='val_loss', save_best_only=True,verbose=2)\n",
    "earlystop = EarlyStopping(monitor='accuracy', patience=30,verbose=2)\n",
    "rle = ReduceLROnPlateau(monitor='loss', factor=0.2, patience=20,verbose=1,min_lr=1e-15)\n",
    "NUM_EPOCHS = 10\n",
    "history_all = {}\n",
    "for i in range(NUM_EPOCHS):\n",
    "    print('################{0} epochs#############'.format(i+1))\n",
    "    for X_train, y_train in train_batch_generator(10000):\n",
    "      history = model.fit(X_train, y_train,\n",
    "                  validation_data=(X_test, y_test),\n",
    "                  epochs= 50, batch_size=32,verbose=2,callbacks = [weight_saver,earlystop,rle])\n",
    "      if len(history_all) == 0:\n",
    "        history_all = {key: [] for key in history.history}\n",
    "      for key in history_all:\n",
    "        history_all[key].extend(history.history[key])"
   ]
  },
  {
   "cell_type": "code",
   "execution_count": null,
   "metadata": {
    "colab": {},
    "colab_type": "code",
    "id": "uPsF1ZY0q_Cz"
   },
   "outputs": [],
   "source": [
    "logs = history_all"
   ]
  },
  {
   "cell_type": "code",
   "execution_count": null,
   "metadata": {
    "colab": {},
    "colab_type": "code",
    "id": "mMyqKGscrEOd"
   },
   "outputs": [],
   "source": [
    "plt.plot(logs['accuracy'])\n",
    "plt.plot(logs['val_accuracy'])\n",
    "plt.title('acc')"
   ]
  },
  {
   "cell_type": "code",
   "execution_count": null,
   "metadata": {
    "colab": {},
    "colab_type": "code",
    "id": "_xL8BDmVrF03"
   },
   "outputs": [],
   "source": [
    "plt.plot(logs['loss'])\n",
    "plt.plot(logs['val_loss'])\n",
    "plt.title('loss')"
   ]
  }
 ],
 "metadata": {
  "colab": {
   "collapsed_sections": [],
   "name": "formulation(random).ipynb",
   "provenance": []
  },
  "kernelspec": {
   "display_name": "Python 3",
   "language": "python",
   "name": "python3"
  },
  "language_info": {
   "codemirror_mode": {
    "name": "ipython",
    "version": 3
   },
   "file_extension": ".py",
   "mimetype": "text/x-python",
   "name": "python",
   "nbconvert_exporter": "python",
   "pygments_lexer": "ipython3",
   "version": "3.6.5"
  }
 },
 "nbformat": 4,
 "nbformat_minor": 2
}
